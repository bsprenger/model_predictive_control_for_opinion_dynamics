{
 "cells": [
  {
   "cell_type": "code",
   "execution_count": 39,
   "metadata": {
    "collapsed": true
   },
   "outputs": [],
   "source": [
    "import sys\n",
    "import os\n",
    "sys.path.append(os.path.abspath('../src'))\n",
    "\n",
    "import numpy as np"
   ]
  },
  {
   "cell_type": "code",
   "execution_count": 40,
   "outputs": [],
   "source": [
    "# noinspection PyUnresolvedReferences\n",
    "from fj_models import BasicFJ\n",
    "\n",
    "# generate random W matrix with 0 diagonal and 1 off-diagonal\n",
    "W = np.random.rand(10, 10)\n",
    "x0 = np.random.rand(10)\n",
    "lambdas = np.ones(10) * 0.1"
   ],
   "metadata": {
    "collapsed": false
   }
  },
  {
   "cell_type": "code",
   "execution_count": 41,
   "outputs": [
    {
     "ename": "ValueError",
     "evalue": "output array is not acceptable (must have the right datatype, number of dimensions, and be a C-Array)",
     "output_type": "error",
     "traceback": [
      "\u001B[0;31m---------------------------------------------------------------------------\u001B[0m",
      "\u001B[0;31mValueError\u001B[0m                                Traceback (most recent call last)",
      "Cell \u001B[0;32mIn[41], line 2\u001B[0m\n\u001B[1;32m      1\u001B[0m model \u001B[38;5;241m=\u001B[39m BasicFJ(W,x0,lambdas)\n\u001B[0;32m----> 2\u001B[0m \u001B[43mmodel\u001B[49m\u001B[38;5;241;43m.\u001B[39;49m\u001B[43mupdate\u001B[49m\u001B[43m(\u001B[49m\u001B[43m)\u001B[49m\n",
      "File \u001B[0;32m~/Documents/repo/model_predictive_control_for_opinion_dynamics/src/fj_models.py:19\u001B[0m, in \u001B[0;36mupdate\u001B[0;34m(self)\u001B[0m\n\u001B[1;32m     17\u001B[0m \u001B[38;5;28;01mdef\u001B[39;00m \u001B[38;5;21mupdate\u001B[39m(\u001B[38;5;28mself\u001B[39m):\n\u001B[1;32m     18\u001B[0m \u001B[38;5;250m    \u001B[39m\u001B[38;5;124;03m\"\"\"\u001B[39;00m\n\u001B[0;32m---> 19\u001B[0m \u001B[38;5;124;03m    Update the opinion vector using the Basic FJ dynamics.\u001B[39;00m\n\u001B[1;32m     20\u001B[0m \u001B[38;5;124;03m    \"\"\"\u001B[39;00m\n\u001B[1;32m     21\u001B[0m     \u001B[38;5;28mself\u001B[39m\u001B[38;5;241m.\u001B[39mx \u001B[38;5;241m=\u001B[39m np\u001B[38;5;241m.\u001B[39mdot((np\u001B[38;5;241m.\u001B[39meye(\u001B[38;5;28mself\u001B[39m\u001B[38;5;241m.\u001B[39mN) \u001B[38;5;241m-\u001B[39m \u001B[38;5;28mself\u001B[39m\u001B[38;5;241m.\u001B[39mlambdas), \u001B[38;5;28mself\u001B[39m\u001B[38;5;241m.\u001B[39mW, \u001B[38;5;28mself\u001B[39m\u001B[38;5;241m.\u001B[39mx) \u001B[38;5;241m+\u001B[39m np\u001B[38;5;241m.\u001B[39mdot(\u001B[38;5;28mself\u001B[39m\u001B[38;5;241m.\u001B[39mlambdas, \u001B[38;5;28mself\u001B[39m\u001B[38;5;241m.\u001B[39mx[\u001B[38;5;241m0\u001B[39m])\n",
      "File \u001B[0;32m<__array_function__ internals>:200\u001B[0m, in \u001B[0;36mdot\u001B[0;34m(*args, **kwargs)\u001B[0m\n",
      "\u001B[0;31mValueError\u001B[0m: output array is not acceptable (must have the right datatype, number of dimensions, and be a C-Array)"
     ]
    }
   ],
   "source": [
    "model = BasicFJ(W,x0,lambdas)\n",
    "model.update()"
   ],
   "metadata": {
    "collapsed": false
   }
  },
  {
   "cell_type": "code",
   "execution_count": null,
   "outputs": [],
   "source": [
    "\n",
    "# N = 11\n",
    "# W = generate_random_W(N)\n",
    "# x0 = np.random.rand(N,1)\n",
    "# lambdas = np.random.rand(N)\n",
    "#\n",
    "# model = ControlledFJ(W,x0,lambdas)\n",
    "#\n",
    "# x,u,cost = SolveStep(model.A,model.B,10,model.x[:,0])\n",
    "#\n",
    "# # print(x[:3,:].value)\n",
    "#\n",
    "# plt.plot(np.transpose(x[:N-1,:].value))\n",
    "# plt.show()"
   ],
   "metadata": {
    "collapsed": false
   }
  }
 ],
 "metadata": {
  "kernelspec": {
   "display_name": "Python 3",
   "language": "python",
   "name": "python3"
  },
  "language_info": {
   "codemirror_mode": {
    "name": "ipython",
    "version": 2
   },
   "file_extension": ".py",
   "mimetype": "text/x-python",
   "name": "python",
   "nbconvert_exporter": "python",
   "pygments_lexer": "ipython2",
   "version": "2.7.6"
  }
 },
 "nbformat": 4,
 "nbformat_minor": 0
}
